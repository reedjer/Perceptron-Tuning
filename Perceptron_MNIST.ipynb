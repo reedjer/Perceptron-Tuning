{
  "nbformat": 4,
  "nbformat_minor": 0,
  "metadata": {
    "colab": {
      "provenance": [],
      "authorship_tag": "ABX9TyMVYLko8jOICTup7tVh4jSa"
    },
    "kernelspec": {
      "name": "python3",
      "display_name": "Python 3"
    },
    "language_info": {
      "name": "python"
    }
  },
  "cells": [
    {
      "cell_type": "code",
      "execution_count": 1,
      "metadata": {
        "id": "E1_QX8wcQyWl",
        "colab": {
          "base_uri": "https://localhost:8080/"
        },
        "outputId": "d079c488-d1ec-4206-9368-4d290a2e6911"
      },
      "outputs": [
        {
          "output_type": "stream",
          "name": "stdout",
          "text": [
            "After loop runs with magnifier the results array has, [0.861 0.861 0.861 0.861 0.861 0.861 0.861 0.861 0.861 0.861 0.861]\n"
          ]
        }
      ],
      "source": [
        "## Reed, Jeremy  CS 545\n",
        "## Perceptron Training on MNIST Character Dataset\n",
        "\n",
        "import pandas as pd\n",
        "import numpy as np\n",
        "import array as arr\n",
        "\n",
        "from sklearn.linear_model import Perceptron as pc\n",
        "from sklearn.preprocessing import StandardScaler\n",
        "from sklearn.datasets import fetch_openml\n",
        "from sklearn.model_selection import train_test_split\n",
        "from sklearn.metrics import accuracy_score\n",
        "\n",
        "##data = fetch_openml(\"mnist_784\", version=1)\n",
        "file = \"/content/sample_data/mnist_test.csv\"\n",
        "data = pd.read_csv(file)\n",
        "x = data.iloc[:, 1:]  ## rows after row 1\n",
        "y = data.iloc[:, 0]   ## column of labels\n",
        "x = x/255.0\n",
        "\n",
        "fl_list = list(range(11))\n",
        "results = np.zeros(11)\n",
        "mag = float(5.0)\n",
        "\n",
        "# Partition data into training / testing subsets\n",
        "x_train, x_test, y_train, y_test = train_test_split(x, y, test_size=0.4, random_state=42)\n",
        "\n",
        "# Normalization\n",
        "#scaler = StandardScaler()\n",
        "#x_train = scaler.fit_transform(x_train)\n",
        "#x_test = scaler.fit_transform(x_test)\n",
        "\n",
        "# Init Perceptron\n",
        "#p_tron = pc(max_iter=1000, tol=1e-3, random_state=42)\n",
        "\n",
        "# Training p_tron\n",
        "#p_tron.fit(x_train, y_train)\n",
        "\n",
        "# Derive a prediction\n",
        "#y_predict = p_tron.predict(x_test)\n",
        "\n",
        "# Evaluate\n",
        "#results[0] = accuracy_score(y_test, y_predict)\n",
        "#print(f\"Accuracy in results array[0] is {results[0] *100:.2f}%\")\n",
        "\n",
        "# Block to try Perceptron with additional \"magnifier\" variable, being\n",
        "# incremented for each iteration and storing the results in an array\n",
        "# that is used later to generate a graph of the results in Seaborn\n",
        "\n",
        "for i in range(0,11,1):\n",
        "    mag *= i\n",
        "    #x_train_rescaled = x_train * mag\n",
        "    #x_test_rescaled = x_test * mag\n",
        "\n",
        "    scaler = StandardScaler()\n",
        "    x_train = scaler.fit_transform(x_train)\n",
        "    x_test = scaler.fit_transform(x_test)\n",
        "    #new_x_train = scaler.fit_transform(x_train_rescaled)\n",
        "    #new_x_test = scaler.fit_transform(x_test_rescaled)\n",
        "    # Init perceptron\n",
        "    p_tron = pc(max_iter=1000, tol=1e-3, random_state=42)\n",
        "\n",
        "    # Train\n",
        "    #p_tron.fit(new_x_train, y_train)\n",
        "    p_tron.fit(x_train, y_train)\n",
        "\n",
        "    # Predict\n",
        "    #y_predict = p_tron.predict(new_x_test)\n",
        "    y_predict = p_tron.predict(x_test)\n",
        "\n",
        "    # Ensure y_test and y_predict have same shape\n",
        "    if y_test.shape != y_predict.shape:\n",
        "      print(f\"warning: Shape mismatch  y_test shape: {y_test.shape}, y_predict_shape: {y_predict.shape}\")\n",
        "    else:\n",
        "      results[i] = accuracy_score(y_test, y_predict)\n",
        "\n",
        "\n",
        "print(f\"After loop runs with magnifier the results array has, {results}\")\n",
        "\n"
      ]
    }
  ]
}